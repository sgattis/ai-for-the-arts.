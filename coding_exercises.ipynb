{
 "cells": [
  {
   "cell_type": "code",
   "execution_count": 1,
   "metadata": {},
   "outputs": [
    {
     "name": "stdout",
     "output_type": "stream",
     "text": [
      "Hello, World!\n"
     ]
    }
   ],
   "source": [
    "print(\"Hello, World!\")"
   ]
  },
  {
   "cell_type": "markdown",
   "metadata": {},
   "source": [
    "<h1>Hello, World!</h1>\n",
    "\n",
    "<p>The following code was created as my first attempt at programming in this course. It is meant to help me understand how to write and run code in GitHub Codespaces.</p>"
   ]
  },
  {
   "cell_type": "markdown",
   "metadata": {},
   "source": [
    "<h1>AI for the Arts</h1>\n",
    "\n",
    "<p>This notebook will be used to learn basic programming concepts</p>\n",
    "\n",
    "<h2>Goals</h2>\n",
    "\n",
    "<ul>\n",
    "  <li>Make an interactive element</li>\n",
    "  <li>Organise files</li>\n",
    "  <li>Learn python basics</li>\n",
    "</ul>"
   ]
  }
 ],
 "metadata": {
  "kernelspec": {
   "display_name": "Python 3",
   "language": "python",
   "name": "python3"
  },
  "language_info": {
   "codemirror_mode": {
    "name": "ipython",
    "version": 3
   },
   "file_extension": ".py",
   "mimetype": "text/x-python",
   "name": "python",
   "nbconvert_exporter": "python",
   "pygments_lexer": "ipython3",
   "version": "3.12.1"
  }
 },
 "nbformat": 4,
 "nbformat_minor": 2
}
