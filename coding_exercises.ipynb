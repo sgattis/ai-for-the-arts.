{
 "cells": [
  {
   "cell_type": "markdown",
   "metadata": {},
   "source": [
    "<h1>Hello, World!</h1>\n",
    "\n",
    "<p>The following code was created as my first attempt at programming in this course. It is meant to help me understand how to write and run code in GitHub Codespaces.</p>"
   ]
  },
  {
   "cell_type": "code",
   "execution_count": 1,
   "metadata": {},
   "outputs": [
    {
     "name": "stdout",
     "output_type": "stream",
     "text": [
      "Hello, World!\n"
     ]
    }
   ],
   "source": [
    "print(\"Hello, World!\")"
   ]
  },
  {
   "cell_type": "markdown",
   "metadata": {},
   "source": [
    "<h1>AI for the Arts</h1>\n",
    "\n",
    "<p>This notebook will be used to learn basic programming concepts</p>\n",
    "\n",
    "<h3>Goals</h3>\n",
    "\n",
    "<ul>\n",
    "  <li>Make an interactive element</li>\n",
    "  <li>Organise files</li>\n",
    "  <li>Learn python basics</li>\n",
    "</ul>"
   ]
  },
  {
   "cell_type": "markdown",
   "metadata": {},
   "source": [
    "<h1>Printing</h1>\n",
    "\n",
    "<h3>My Prompt:</h3>\n",
    "\n",
    "<p>“Could you suggest a python code for ‘Hello, world!’to demonstrate the concept of printing to a complete beginner in programming? Please explain the code step-by-step highlighting any key aspects.\"</p>\n",
    "\n",
    "<h3>Key Learning Outcomes:</h3>\n",
    "\n",
    "<ul>\n",
    "  <li>See how Microsoft Copilot can speed up the Python learning process</li>\n",
    "  <li>Gain insights into coding patterns</li>\n",
    "  <li>Recieve new suggestions and ideas with aid from an AI tool</li>\n",
    "</ul>\n",
    "\n"
   ]
  },
  {
   "cell_type": "code",
   "execution_count": 1,
   "metadata": {},
   "outputs": [
    {
     "name": "stdout",
     "output_type": "stream",
     "text": [
      "Hello, world!\n"
     ]
    }
   ],
   "source": [
    "print(\"Hello, world!\")"
   ]
  },
  {
   "cell_type": "markdown",
   "metadata": {},
   "source": [
    "<h1>Variables</h1>\n",
    "\n",
    "<h3>My Prompt:</h3>\n",
    "\n",
    "<p>\"Could you suggest a modification of the Python code for “Hello, world!” to demonstrate the concept of variables to a complete beginner in programming? Please explain the code step-by-step highlighting any key aspects.\"</p>"
   ]
  },
  {
   "cell_type": "code",
   "execution_count": 2,
   "metadata": {},
   "outputs": [
    {
     "name": "stdout",
     "output_type": "stream",
     "text": [
      "Hello, world!\n"
     ]
    }
   ],
   "source": [
    "message = \"Hello, world!\"\n",
    "print(message)"
   ]
  },
  {
   "cell_type": "markdown",
   "metadata": {},
   "source": [
    "<h3>Suggested Prompts:</h3>\n",
    "\n",
    "<ul>\n",
    "  <li>Can you show me more examples of variables?</li>\n",
    "  <li>What are data types in Python?</li>\n",
    "  <li>How do I create multiple variables at once?</li>\n",
    "</ul>"
   ]
  },
  {
   "cell_type": "markdown",
   "metadata": {},
   "source": [
    "<h3>Let's Try...</h3>\n",
    "\n",
    "<p>How do I create multiple variables at once?</p>"
   ]
  },
  {
   "cell_type": "code",
   "execution_count": 3,
   "metadata": {},
   "outputs": [
    {
     "name": "stdout",
     "output_type": "stream",
     "text": [
      "Alice\n",
      "30\n",
      "Glasgow\n"
     ]
    }
   ],
   "source": [
    "name, age, city = \"Alice\", 30, \"Glasgow\"\n",
    "print(name)  # Output: Alice\n",
    "print(age)   # Output: 30\n",
    "print(city)  # Output: Glasgow"
   ]
  },
  {
   "cell_type": "markdown",
   "metadata": {},
   "source": [
    "<h3>What Did I Learn?</h3>\n",
    "\n",
    "<ul>\n",
    "  <li>A variable is a name that refers to a value. It stores data and can be manipulated and resused throughout a program.</li>\n",
    "  <li>You can create multiple variables at once in Python by separating each variable and its value with a comma.</li>\n",
    "  <li>Values are assigned to variables in the order they appear.</li>\n",
    "  <li>The = sign is used to assign a value to a variable.</li>\n",
    "  <li>A string refers to the sequence of characters enclosed in quotation marks.</li>\n",
    "</ul>"
   ]
  },
  {
   "cell_type": "markdown",
   "metadata": {},
   "source": [
    "<h1>Functions</h1>\n",
    "\n",
    "<h3>My Prompt:</h3>\n",
    "\n",
    "<p>\"Could you suggest a modification of the Python code for “Hello, world!” to demonstrate the concept of functions to a complete beginner in programming? Please explain the code step-by-step highlighting any key aspects.\"</p>"
   ]
  },
  {
   "cell_type": "code",
   "execution_count": 4,
   "metadata": {},
   "outputs": [
    {
     "name": "stdout",
     "output_type": "stream",
     "text": [
      "Hello, world!\n"
     ]
    }
   ],
   "source": [
    "def greet():\n",
    "    print(\"Hello, world!\")\n",
    "\n",
    "greet()"
   ]
  },
  {
   "cell_type": "markdown",
   "metadata": {},
   "source": [
    "<h3>Suggested Prompts:</h3>\n",
    "\n",
    "<ul>\n",
    "  <li>Can you show me how to pass parameters to functions?</li>\n",
    "  <li>What are return values in functions?</li>\n",
    "  <li>How do I create a function with multiple statements?</li>\n",
    "</ul>\n"
   ]
  },
  {
   "cell_type": "markdown",
   "metadata": {},
   "source": [
    "<h3>Let's Try...</h3>\n",
    "\n",
    "<p>What are return values in functions?</p>"
   ]
  },
  {
   "cell_type": "code",
   "execution_count": 5,
   "metadata": {},
   "outputs": [
    {
     "name": "stdout",
     "output_type": "stream",
     "text": [
      "8\n"
     ]
    }
   ],
   "source": [
    "def add(a, b):\n",
    "    return a + b\n",
    "\n",
    "result = add(3, 5)\n",
    "print(result)"
   ]
  },
  {
   "cell_type": "markdown",
   "metadata": {},
   "source": [
    "<h3>What Did I Learn?</h3>\n",
    "\n",
    "<ul>\n",
    "  <li>Functions are reusable pieces of code that perform a specific task. They help to organise and modularise code.</li>\n",
    "  <li>You can use the def keyword to define a function, followed by the function name and parentheses.</li>\n",
    "  <li>To execute a function, call it by its name followed by parenthesis.</li>\n",
    "  <li>Return values in functions are the values that a function sends back to the part of the program that called it.</li>\n",
    "  <li>Return values are essential for creating functions that perform calculations or operations and provide results that can be used elsewhere in your program.</li>\n",
    "</ul>"
   ]
  },
  {
   "cell_type": "markdown",
   "metadata": {},
   "source": [
    "<h1>Loops</h1>\n",
    "\n",
    "<h3>My Prompt:</h3>\n",
    "\n",
    "<p>\"Could you suggest a modification of the Python code for “Hello, world!” to demonstrate the concept of loops to a\n",
    "complete beginner in programming? Please explain the code step-by-step highlighting any key aspects.\"</p>"
   ]
  },
  {
   "cell_type": "code",
   "execution_count": 6,
   "metadata": {},
   "outputs": [
    {
     "name": "stdout",
     "output_type": "stream",
     "text": [
      "Hello, world!\n",
      "Hello, world!\n",
      "Hello, world!\n",
      "Hello, world!\n",
      "Hello, world!\n"
     ]
    }
   ],
   "source": [
    "for i in range(5):\n",
    "    print(\"Hello, world!\")"
   ]
  }
 ],
 "metadata": {
  "kernelspec": {
   "display_name": "Python 3",
   "language": "python",
   "name": "python3"
  },
  "language_info": {
   "codemirror_mode": {
    "name": "ipython",
    "version": 3
   },
   "file_extension": ".py",
   "mimetype": "text/x-python",
   "name": "python",
   "nbconvert_exporter": "python",
   "pygments_lexer": "ipython3",
   "version": "3.12.1"
  }
 },
 "nbformat": 4,
 "nbformat_minor": 2
}
