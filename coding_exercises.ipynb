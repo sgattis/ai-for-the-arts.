{
 "cells": [
  {
   "cell_type": "markdown",
   "metadata": {},
   "source": [
    "<h1>Hello, World!</h1>\n",
    "\n",
    "<p>The following code was created as my first attempt at programming in this course. It is meant to help me understand how to write and run code in GitHub Codespaces.</p>"
   ]
  },
  {
   "cell_type": "code",
   "execution_count": 1,
   "metadata": {},
   "outputs": [
    {
     "name": "stdout",
     "output_type": "stream",
     "text": [
      "Hello, World!\n"
     ]
    }
   ],
   "source": [
    "print(\"Hello, World!\")"
   ]
  },
  {
   "cell_type": "markdown",
   "metadata": {},
   "source": [
    "<h1>AI for the Arts</h1>\n",
    "\n",
    "<p>This notebook will be used to learn basic programming concepts</p>\n",
    "\n",
    "<h3>Goals</h3>\n",
    "\n",
    "<ul>\n",
    "  <li>Make an interactive element</li>\n",
    "  <li>Organise files</li>\n",
    "  <li>Learn python basics</li>\n",
    "</ul>"
   ]
  },
  {
   "cell_type": "markdown",
   "metadata": {},
   "source": [
    "<h1>Printing</h1>\n",
    "\n",
    "<h3>My Prompt:</h3>\n",
    "\n",
    "<p>“Could you suggest a python code for ‘Hello, world!’to demonstrate the concept of printing to a complete beginner in programming? Please explain the code step-by-step highlighting any key aspects.\"</p>\n",
    "\n",
    "<h3>Key Learning Outcomes:</h3>\n",
    "\n",
    "<ul>\n",
    "  <li>See how Microsoft Copilot can speed up the Python learning process</li>\n",
    "  <li>Gain insights into coding patterns</li>\n",
    "  <li>Recieve new suggestions and ideas with aid from an AI tool</li>\n",
    "</ul>\n",
    "\n"
   ]
  },
  {
   "cell_type": "code",
   "execution_count": 1,
   "metadata": {},
   "outputs": [
    {
     "name": "stdout",
     "output_type": "stream",
     "text": [
      "Hello, world!\n"
     ]
    }
   ],
   "source": [
    "print(\"Hello, world!\")"
   ]
  },
  {
   "cell_type": "markdown",
   "metadata": {},
   "source": [
    "<h1>Variables</h1>\n",
    "\n",
    "<h3>My Prompt:</h3>\n",
    "\n",
    "<p>\"Could you suggest a modification of the Python code for “Hello, world!” to demonstrate the concept of variables to a complete beginner in programming? Please explain the code step-by-step highlighting any key aspects.\"</p>"
   ]
  },
  {
   "cell_type": "code",
   "execution_count": 2,
   "metadata": {},
   "outputs": [
    {
     "name": "stdout",
     "output_type": "stream",
     "text": [
      "Hello, world!\n"
     ]
    }
   ],
   "source": [
    "message = \"Hello, world!\"\n",
    "print(message)"
   ]
  },
  {
   "cell_type": "markdown",
   "metadata": {},
   "source": [
    "<h3>Suggested Prompts:</h3>\n",
    "\n",
    "<ul>\n",
    "  <li>Can you show me more examples of variables?</li>\n",
    "  <li>What are data types in Python?</li>\n",
    "  <li>How do I create multiple variables at once?</li>\n",
    "</ul>"
   ]
  },
  {
   "cell_type": "markdown",
   "metadata": {},
   "source": [
    "<h3>Let's Try...</h3>\n",
    "\n",
    "<p>How do I create multiple variables at once?</p>"
   ]
  },
  {
   "cell_type": "code",
   "execution_count": 3,
   "metadata": {},
   "outputs": [
    {
     "name": "stdout",
     "output_type": "stream",
     "text": [
      "Alice\n",
      "30\n",
      "Glasgow\n"
     ]
    }
   ],
   "source": [
    "name, age, city = \"Alice\", 30, \"Glasgow\"\n",
    "print(name)  # Output: Alice\n",
    "print(age)   # Output: 30\n",
    "print(city)  # Output: Glasgow"
   ]
  },
  {
   "cell_type": "markdown",
   "metadata": {},
   "source": [
    "<h3>What Did I Learn?</h3>\n",
    "\n",
    "<ul>\n",
    "  <li>A variable is a name that refers to a value. It stores data and can be manipulated and resused throughout a program.</li>\n",
    "  <li>You can create multiple variables at once in Python by separating each variable and its value with a comma.</li>\n",
    "  <li>Values are assigned to variables in the order they appear.</li>\n",
    "  <li>The = sign is used to assign a value to a variable.</li>\n",
    "  <li>A string refers to the sequence of characters enclosed in quotation marks.</li>\n",
    "</ul>"
   ]
  },
  {
   "cell_type": "markdown",
   "metadata": {},
   "source": [
    "<h1>Functions</h1>\n",
    "\n",
    "<h3>My Prompt:</h3>\n",
    "\n",
    "<p>\"Could you suggest a modification of the Python code for “Hello, world!” to demonstrate the concept of functions to a complete beginner in programming? Please explain the code step-by-step highlighting any key aspects.\"</p>"
   ]
  },
  {
   "cell_type": "code",
   "execution_count": 4,
   "metadata": {},
   "outputs": [
    {
     "name": "stdout",
     "output_type": "stream",
     "text": [
      "Hello, world!\n"
     ]
    }
   ],
   "source": [
    "def greet():\n",
    "    print(\"Hello, world!\")\n",
    "\n",
    "greet()"
   ]
  },
  {
   "cell_type": "markdown",
   "metadata": {},
   "source": [
    "<h3>Suggested Prompts:</h3>\n",
    "\n",
    "<ul>\n",
    "  <li>Can you show me how to pass parameters to functions?</li>\n",
    "  <li>What are return values in functions?</li>\n",
    "  <li>How do I create a function with multiple statements?</li>\n",
    "</ul>\n"
   ]
  },
  {
   "cell_type": "markdown",
   "metadata": {},
   "source": [
    "<h3>Let's Try...</h3>\n",
    "\n",
    "<p>What are return values in functions?</p>"
   ]
  },
  {
   "cell_type": "code",
   "execution_count": 5,
   "metadata": {},
   "outputs": [
    {
     "name": "stdout",
     "output_type": "stream",
     "text": [
      "8\n"
     ]
    }
   ],
   "source": [
    "def add(a, b):\n",
    "    return a + b\n",
    "\n",
    "result = add(3, 5)\n",
    "print(result)"
   ]
  },
  {
   "cell_type": "markdown",
   "metadata": {},
   "source": [
    "<h3>What Did I Learn?</h3>\n",
    "\n",
    "<ul>\n",
    "  <li>Functions are reusable pieces of code that perform a specific task. They help to organise and modularise code.</li>\n",
    "  <li>You can use the def keyword to define a function, followed by the function name and parentheses.</li>\n",
    "  <li>To execute a function, call it by its name followed by parenthesis.</li>\n",
    "  <li>Return values in functions are the values that a function sends back to the part of the program that called it.</li>\n",
    "  <li>Return values are essential for creating functions that perform calculations or operations and provide results that can be used elsewhere in your program.</li>\n",
    "</ul>"
   ]
  },
  {
   "cell_type": "markdown",
   "metadata": {},
   "source": [
    "<h1>Loops</h1>\n",
    "\n",
    "<h3>My Prompt:</h3>\n",
    "\n",
    "<p>\"Could you suggest a modification of the Python code for “Hello, world!” to demonstrate the concept of loops to a\n",
    "complete beginner in programming? Please explain the code step-by-step highlighting any key aspects.\"</p>"
   ]
  },
  {
   "cell_type": "code",
   "execution_count": 6,
   "metadata": {},
   "outputs": [
    {
     "name": "stdout",
     "output_type": "stream",
     "text": [
      "Hello, world!\n",
      "Hello, world!\n",
      "Hello, world!\n",
      "Hello, world!\n",
      "Hello, world!\n"
     ]
    }
   ],
   "source": [
    "for i in range(5):\n",
    "    print(\"Hello, world!\")"
   ]
  },
  {
   "cell_type": "markdown",
   "metadata": {},
   "source": [
    "<h3>Suggested Prompts:</h3>\n",
    "\n",
    "<ul>\n",
    "  <li>Can you explain while loops?</li>\n",
    "  <li>What are nested loops in Python?</li>\n",
    "  <li>How to use break and continue statements?</li>\n",
    "</ul>"
   ]
  },
  {
   "cell_type": "markdown",
   "metadata": {},
   "source": [
    "<h3>Let's Try...</h3>\n",
    "\n",
    "<p>Can you explain while loops?</p>"
   ]
  },
  {
   "cell_type": "code",
   "execution_count": 1,
   "metadata": {},
   "outputs": [
    {
     "name": "stdout",
     "output_type": "stream",
     "text": [
      "Hello, world!\n",
      "Hello, world!\n",
      "Hello, world!\n",
      "Hello, world!\n",
      "Hello, world!\n"
     ]
    }
   ],
   "source": [
    "count = 0\n",
    "while count < 5:\n",
    "    print(\"Hello, world!\")\n",
    "    count += 1"
   ]
  },
  {
   "cell_type": "markdown",
   "metadata": {},
   "source": [
    "<h3>What Did I Learn?</h3>\n",
    "\n",
    "<ul>\n",
    "  <li>Loops are used to repeat a block of code multiple times.</li>\n",
    "  <li>A while loop in Python repeatedly executes a block of code as long as a specified condition is True.</li>\n",
    "</ul>"
   ]
  },
  {
   "cell_type": "markdown",
   "metadata": {},
   "source": [
    "<h1>Lists</h1>\n",
    "\n",
    "<h3>My Prompt:</h3>\n",
    "\n",
    "<p>\"Could you suggest a modification of the Python code for “Hello, world!” to demonstrate the concept of lists to a complete beginner in programming? Please explain the code step-by-step highlighting any key aspects.\"</p>"
   ]
  },
  {
   "cell_type": "code",
   "execution_count": 2,
   "metadata": {},
   "outputs": [
    {
     "name": "stdout",
     "output_type": "stream",
     "text": [
      "Hello, world!\n",
      "Hi there!\n",
      "Greetings!\n",
      "Welcome!\n",
      "Howdy!\n"
     ]
    }
   ],
   "source": [
    "messages = [\"Hello, world!\", \"Hi there!\", \"Greetings!\", \"Welcome!\", \"Howdy!\"]\n",
    "for message in messages:\n",
    "    print(message)"
   ]
  },
  {
   "cell_type": "markdown",
   "metadata": {},
   "source": [
    "<h3>Suggested Prompts:</h3>\n",
    "\n",
    "<ul>\n",
    "  <li>Can you explain how to modify lists?</li>\n",
    "  <li>What are list comprehensions in Python?</li>\n",
    "  <li>How do I sort a list?</li>\n",
    "</ul>\n",
    "\n",
    "<h3>Let's Try...</h3>\n",
    "\n",
    "<p>How do I sort a list?</p>"
   ]
  },
  {
   "cell_type": "code",
   "execution_count": 3,
   "metadata": {},
   "outputs": [
    {
     "name": "stdout",
     "output_type": "stream",
     "text": [
      "[1, 2, 5, 5, 6, 9]\n"
     ]
    }
   ],
   "source": [
    "numbers = [5, 2, 9, 1, 5, 6]\n",
    "numbers.sort()\n",
    "print(numbers)"
   ]
  },
  {
   "cell_type": "markdown",
   "metadata": {},
   "source": [
    "<h3>What Did I Learn?</h3>\n",
    "\n",
    "<ul>\n",
    "  <li>Lists are used to store multiple items in a single variable.</li>\n",
    "  <li>In-Place Sorting: The sort() method sorts the list in place, modifying the original list.</li>\n",
    "  <li>New Sorted List: The sorted() function returns a new sorted list, leaving the original list unchanged.</li>\n",
    "  <li>Ascending Order: By default, both sort() and sorted() sort the list in ascending order.</li>\n",
    "</ul>"
   ]
  },
  {
   "cell_type": "markdown",
   "metadata": {},
   "source": [
    "<h1>Dictionaries</h1>\n",
    "\n",
    "<h3>My Prompt:</h3>\n",
    "\n",
    "<p>\"Could you suggest a modification of the Python code for “Hello, world!” to demonstrate the concept of dictionaries to a complete beginner in programming? Please explain the code step-by-step highlighting any key aspects.\"</p>"
   ]
  },
  {
   "cell_type": "code",
   "execution_count": 4,
   "metadata": {},
   "outputs": [
    {
     "name": "stdout",
     "output_type": "stream",
     "text": [
      "In English, we say: Hello, world!\n",
      "In Spanish, we say: ¡Hola, mundo!\n",
      "In French, we say: Bonjour, le monde!\n",
      "In German, we say: Hallo, Welt!\n",
      "In Japanese, we say: こんにちは、世界！\n"
     ]
    }
   ],
   "source": [
    "greetings = {\n",
    "    \"English\": \"Hello, world!\",\n",
    "    \"Spanish\": \"¡Hola, mundo!\",\n",
    "    \"French\": \"Bonjour, le monde!\",\n",
    "    \"German\": \"Hallo, Welt!\",\n",
    "    \"Japanese\": \"こんにちは、世界！\"\n",
    "}\n",
    "\n",
    "for language, greeting in greetings.items():\n",
    "    print(f\"In {language}, we say: {greeting}\")"
   ]
  },
  {
   "cell_type": "markdown",
   "metadata": {},
   "source": [
    "<h3>Suggested Prompts:</h3>\n",
    "\n",
    "<ul>\n",
    "  <li>How do I modify a dictionary?</li>\n",
    "  <li>What are nested dictionaries in Python?</li>\n",
    "  <li>Can you explain how to merge two dictionaries?</li>\n",
    "</ul>\n",
    "\n",
    "<h3>Let's Try...</h3>\n",
    "\n",
    "<p>What are nested dictionaries in Python?</p>"
   ]
  },
  {
   "cell_type": "code",
   "execution_count": 8,
   "metadata": {},
   "outputs": [],
   "source": [
    "students = {\n",
    "    \"Alice\": {\n",
    "        \"age\": 25,\n",
    "        \"major\": \"Physics\",\n",
    "        \"grades\": {\"math\": \"A\", \"science\": \"B+\"}\n",
    "    },\n",
    "    \"Bob\": {\n",
    "        \"age\": 22,\n",
    "        \"major\": \"Mathematics\",\n",
    "        \"grades\": {\"math\": \"A+\", \"science\": \"A\"}\n",
    "    }\n",
    "}"
   ]
  },
  {
   "cell_type": "markdown",
   "metadata": {},
   "source": [
    "<h3>Error!</h3>\n",
    "\n",
    "<p>There was no output from the above code offered by Copilot. I told the AI about this issue, and it seems as though I forgot to write out a print statement to see the output. The revised code is below.</p>"
   ]
  },
  {
   "cell_type": "code",
   "execution_count": 9,
   "metadata": {},
   "outputs": [
    {
     "name": "stdout",
     "output_type": "stream",
     "text": [
      "Alice's major: Physics\n",
      "Bob's math grade: A+\n",
      "Alice's details: {'age': 25, 'major': 'Physics', 'grades': {'math': 'A', 'science': 'B+'}}\n",
      "Bob's details: {'age': 22, 'major': 'Mathematics', 'grades': {'math': 'A+', 'science': 'A'}}\n"
     ]
    }
   ],
   "source": [
    "students = {\n",
    "    \"Alice\": {\n",
    "        \"age\": 25,\n",
    "        \"major\": \"Physics\",\n",
    "        \"grades\": {\"math\": \"A\", \"science\": \"B+\"}\n",
    "    },\n",
    "    \"Bob\": {\n",
    "        \"age\": 22,\n",
    "        \"major\": \"Mathematics\",\n",
    "        \"grades\": {\"math\": \"A+\", \"science\": \"A\"}\n",
    "    }\n",
    "}\n",
    "\n",
    "# Accessing and printing Alice's major\n",
    "print(\"Alice's major:\", students[\"Alice\"][\"major\"])\n",
    "\n",
    "# Accessing and printing Bob's math grade\n",
    "print(\"Bob's math grade:\", students[\"Bob\"][\"grades\"][\"math\"])\n",
    "\n",
    "# Accessing and printing all details of Alice\n",
    "print(\"Alice's details:\", students[\"Alice\"])\n",
    "\n",
    "# Accessing and printing all details of Bob\n",
    "print(\"Bob's details:\", students[\"Bob\"])"
   ]
  },
  {
   "cell_type": "markdown",
   "metadata": {},
   "source": [
    "<h3>What Did I Learn?</h3>\n",
    "\n",
    "<ul>\n",
    "  <li>Dictionaries are used to store data values in key-value pairs.</li>\n",
    "  <li>Each key in a dictionary is unique and maps to a value. Keys are used to access their corresponding values.</li>\n",
    "  <li>Nested dictionaries are dictionaries within dictionaries, allowing for more complex data structures.</li>\n",
    "  <li>Make sure to add a print statement, if you want to see output!</li>\n",
    "</ul>"
   ]
  },
  {
   "cell_type": "markdown",
   "metadata": {},
   "source": [
    "<h1>Arrays</h1>\n",
    "\n",
    "<h3>My Prompt:</h3>\n",
    "\n",
    "<p>\"Could you suggest a modification of the Python code for “Hello, world!” to demonstrate the concept of arrays to a complete beginner in programming? Please explain the code step-by-step highlighting any key aspects.\"</p>"
   ]
  },
  {
   "cell_type": "code",
   "execution_count": 10,
   "metadata": {},
   "outputs": [
    {
     "name": "stdout",
     "output_type": "stream",
     "text": [
      "Hello, world!\n",
      "Hi there!\n",
      "Greetings!\n",
      "Welcome!\n",
      "Howdy!\n"
     ]
    }
   ],
   "source": [
    "greetings = [\"Hello, world!\", \"Hi there!\", \"Greetings!\", \"Welcome!\", \"Howdy!\"]\n",
    "\n",
    "for greeting in greetings:\n",
    "    print(greeting)"
   ]
  },
  {
   "cell_type": "markdown",
   "metadata": {},
   "source": [
    "<h3>Suggested Prompts:</h3>\n",
    "\n",
    "<ul>\n",
    "  <li>How do I modify elements in a list?</li>\n",
    "  <li>Can you explain how to sort a list?</li>\n",
    "  <li>What are the differences between lists and tuples?</li>\n",
    "</ul>\n",
    "\n",
    "<h3>Let's Try...</h3>\n",
    "\n",
    "<p>My own prompt! I already learned about lists, so I want to get clarification on the differences between lists and arrays. I asked Copilot, \"What is the difference betweeen a list and array?\"</p>\n",
    "\n",
    "<h3>What Did I Learn?</h3>\n",
    "\n",
    "<ul>\n",
    "  <li>Use Lists: When you need a flexible, general-purpose collection that can store different data types.</li>\n",
    "  <li>Use Arrays: When you need efficient storage and operations for numerical data, especially with large datasets.</li>\n",
    "</ul>"
   ]
  },
  {
   "cell_type": "markdown",
   "metadata": {},
   "source": [
    "<h1>Importing Libraries</h1>\n",
    "\n",
    "<h3>My Prompt:</h3>\n",
    "\n",
    "<p>\"Could you suggest a modification of the Python code for “Hello, world!” to demonstrate the concept of importing libraries to a complete beginner in programming? Please explain the code step-by-step highlighting any key aspects.\"</p>"
   ]
  },
  {
   "cell_type": "code",
   "execution_count": 11,
   "metadata": {},
   "outputs": [
    {
     "name": "stdout",
     "output_type": "stream",
     "text": [
      "Hello, world!\n",
      "The current date and time is: 2025-01-28 13:43:56.923014\n"
     ]
    }
   ],
   "source": [
    "import datetime\n",
    "\n",
    "def greet():\n",
    "    current_time = datetime.datetime.now()\n",
    "    print(\"Hello, world!\")\n",
    "    print(f\"The current date and time is: {current_time}\")\n",
    "\n",
    "greet()"
   ]
  },
  {
   "cell_type": "markdown",
   "metadata": {},
   "source": [
    "<h3>Suggested Prompts:</h3>\n",
    "\n",
    "<ul>\n",
    "  <li>How do I create my own module?</li>\n",
    "  <li>Can you show me how to use multiple imports?</li>\n",
    "  <li>What are some common Python libraries for beginners?</li>\n",
    "</ul>\n",
    "\n",
    "<h3>Let's Try...</h3>\n",
    "\n",
    "<p>Can you show me how to use multiple imports?</p>"
   ]
  },
  {
   "cell_type": "code",
   "execution_count": 12,
   "metadata": {},
   "outputs": [
    {
     "name": "stdout",
     "output_type": "stream",
     "text": [
      "Hello, world!\n",
      "The current date and time is: 2025-01-28 13:46:05.353396\n",
      "The area of a circle with radius 5 is: 78.53981633974483\n"
     ]
    }
   ],
   "source": [
    "import datetime\n",
    "import math\n",
    "\n",
    "def display_greeting():\n",
    "    current_time = datetime.datetime.now()\n",
    "    print(\"Hello, world!\")\n",
    "    print(f\"The current date and time is: {current_time}\")\n",
    "\n",
    "def calculate_circle_area(radius):\n",
    "    area = math.pi * (radius ** 2)\n",
    "    return area\n",
    "\n",
    "# Using the display_greeting function\n",
    "display_greeting()\n",
    "\n",
    "# Using the calculate_circle_area function\n",
    "radius = 5\n",
    "area = calculate_circle_area(radius)\n",
    "print(f\"The area of a circle with radius {radius} is: {area}\")"
   ]
  },
  {
   "cell_type": "markdown",
   "metadata": {},
   "source": [
    "<h3>What Did I Learn?</h3>\n",
    "\n",
    "<ul>\n",
    "  <li>Importing libraries in Python allows you to use additional functionality that isn't included in the standard language.</li>\n",
    "  <li>You can import multiple modules by using separate import statements for each module.</li>\n",
    "</ul>"
   ]
  },
  {
   "cell_type": "markdown",
   "metadata": {},
   "source": [
    "<h1>If, Else, and Elif</h1>\n",
    "\n",
    "<h3>My Prompt:</h3>\n",
    "\n",
    "<p>\"Could you suggest a modification of the Python code for “Hello, world!” to demonstrate the concepts of if, elif, and else statements to a complete beginner in programming? Please explain the code step-by-step highlighting any key aspects.\"</p>"
   ]
  },
  {
   "cell_type": "code",
   "execution_count": 13,
   "metadata": {},
   "outputs": [
    {
     "name": "stdout",
     "output_type": "stream",
     "text": [
      "Hello, world!\n",
      "¡Hola, mundo!\n",
      "Bonjour, le monde!\n",
      "Hello, world! (default)\n"
     ]
    }
   ],
   "source": [
    "def greet(language):\n",
    "    if language == \"English\":\n",
    "        print(\"Hello, world!\")\n",
    "    elif language == \"Spanish\":\n",
    "        print(\"¡Hola, mundo!\")\n",
    "    elif language == \"French\":\n",
    "        print(\"Bonjour, le monde!\")\n",
    "    else:\n",
    "        print(\"Hello, world! (default)\")\n",
    "\n",
    "# Test the function with different languages\n",
    "greet(\"English\")\n",
    "greet(\"Spanish\")\n",
    "greet(\"French\")\n",
    "greet(\"German\")"
   ]
  },
  {
   "cell_type": "markdown",
   "metadata": {},
   "source": [
    "<h3>Suggested Prompts:</h3>\n",
    "\n",
    "<ul>\n",
    "  <li>Can you explain nested if statements?</li>\n",
    "  <li>What are common mistakes with if statements?</li>\n",
    "  <li>How do I use logical operators in conditions?</li>\n",
    "</ul>\n",
    "\n",
    "<h3>Let's Try...</h3>\n",
    "\n",
    "<p>What are common mistakes with if statements?</p>\n",
    "\n",
    "<h3>What Did I Learn?</h3>\n",
    "\n",
    "<p>There are many common mistakes with if statements including:\n",
    "\n",
    "<ul>\n",
    "  <li>Incorrect indentation</li>\n",
    "  <li>Using assignment (=) instead of comparison (==)</li>\n",
    "  <li>Missing colon (:)</li>\n",
    "  <li>Incorrect boolean expressions</li>\n",
    "  <li>Not handling all cases</li>\n",
    "  <li>Overusing nested if statements</li>\n",
    "  <li>Comparing incompatible types</li>\n",
    "</ul>"
   ]
  },
  {
   "cell_type": "markdown",
   "metadata": {},
   "source": [
    "<h1>Operators</h1>\n",
    "\n",
    "<h3>My Prompt:</h3>\n",
    "\n",
    "<p>\"Could you suggest a modification of the Python code for “Hello, world!” to demonstrate the concept of operators to a complete beginner in programming? Please explain the code step-by-step highlighting any key aspects. Include discussions about addition and multiplication between strings and numbers.\"</p>"
   ]
  },
  {
   "cell_type": "code",
   "execution_count": 4,
   "metadata": {},
   "outputs": [
    {
     "name": "stdout",
     "output_type": "stream",
     "text": [
      "The sum of 5 and 3 is: 8\n",
      "The product of 4 and 2 is: 8\n",
      "Hello, world!\n",
      "Hello! Hello! Hello! \n"
     ]
    }
   ],
   "source": [
    "# Addition of numbers\n",
    "a = 5\n",
    "b = 3\n",
    "sum_result = a + b\n",
    "print(f\"The sum of {a} and {b} is: {sum_result}\")\n",
    "\n",
    "# Multiplication of numbers\n",
    "c = 4\n",
    "d = 2\n",
    "product_result = c * d\n",
    "print(f\"The product of {c} and {d} is: {product_result}\")\n",
    "\n",
    "# Addition of strings\n",
    "greeting = \"Hello, \"\n",
    "name = \"world!\"\n",
    "full_greeting = greeting + name\n",
    "print(full_greeting)\n",
    "\n",
    "# Multiplication of strings\n",
    "repeat_greeting = \"Hello! \" * 3\n",
    "print(repeat_greeting)"
   ]
  },
  {
   "cell_type": "markdown",
   "metadata": {},
   "source": [
    "<h3>Suggested Prompts:</h3>\n",
    "\n",
    "<ul>\n",
    "  <li>Can you explain f-strings more?</li>\n",
    "  <li>What other operators can I use in Python?</li>\n",
    "  <li>How to handle user input for this code?</li>\n",
    "</ul>\n",
    "\n",
    "<h3>Let's Try...</h3>\n",
    "\n",
    "<p>Can you explain f-strings more?</p>"
   ]
  },
  {
   "cell_type": "code",
   "execution_count": 5,
   "metadata": {},
   "outputs": [
    {
     "name": "stdout",
     "output_type": "stream",
     "text": [
      "Hello, Alice!\n"
     ]
    }
   ],
   "source": [
    "name = \"Alice\"\n",
    "greeting = f\"Hello, {name}!\"\n",
    "print(greeting)"
   ]
  },
  {
   "cell_type": "code",
   "execution_count": 6,
   "metadata": {},
   "outputs": [
    {
     "name": "stdout",
     "output_type": "stream",
     "text": [
      "The sum of 5 and 3 is 8.\n"
     ]
    }
   ],
   "source": [
    "a = 5\n",
    "b = 3\n",
    "result = f\"The sum of {a} and {b} is {a + b}.\"\n",
    "print(result)"
   ]
  },
  {
   "cell_type": "code",
   "execution_count": 7,
   "metadata": {},
   "outputs": [
    {
     "name": "stdout",
     "output_type": "stream",
     "text": [
      "Value: 123.46\n"
     ]
    }
   ],
   "source": [
    "value = 123.456\n",
    "formatted_value = f\"Value: {value:.2f}\"\n",
    "print(formatted_value)"
   ]
  },
  {
   "cell_type": "markdown",
   "metadata": {},
   "source": [
    "<h3>What Did I Learn?</h3>\n",
    "\n",
    "<ul>\n",
    "  <li>Code can use operators, including addition and multiplication between strings and numbers.</li>\n",
    "  <li>F-strings, or formatted string literals, are a way to embed expressions inside string literals using curly braces {}.</li>\n",
    "  <li>Benefits of using f-strings include readability, conciseness, performance, and flexibility.</li>\n",
    "</ul>"
   ]
  },
  {
   "cell_type": "markdown",
   "metadata": {},
   "source": [
    "<h1>Advanced Concepts</h1>\n",
    "\n",
    "<h3>My Prompt:</h3>\n",
    "\n",
    "<p>\"Could you suggest a modification of the Python code for “Hello, world!” to demonstrate the concept of classes, objects and methods to a complete beginner in programming? Please explain the code step-by-step highlighting any key aspects.\"</p>"
   ]
  },
  {
   "cell_type": "code",
   "execution_count": 8,
   "metadata": {},
   "outputs": [
    {
     "name": "stdout",
     "output_type": "stream",
     "text": [
      "Hello, world!\n"
     ]
    }
   ],
   "source": [
    "class Greeter:\n",
    "    def __init__(self, name):\n",
    "        self.name = name\n",
    "\n",
    "    def greet(self):\n",
    "        print(f\"Hello, {self.name}!\")\n",
    "\n",
    "# Creating an object of the Greeter class\n",
    "greeter = Greeter(\"world\")\n",
    "greeter.greet()"
   ]
  },
  {
   "cell_type": "markdown",
   "metadata": {},
   "source": [
    "<h3>Suggested Prompts:</h3>\n",
    "\n",
    "<ul>\n",
    "  <li>Can you explain inheritance in classes?</li>\n",
    "  <li>What are class methods and static methods?</li>\n",
    "  <li>How to handle errors with exceptions in Python?</li>\n",
    "</ul>\n",
    "\n",
    "<h3>Let's Try...</h3>\n",
    "\n",
    "<p>What are class methods and static methods?</p>"
   ]
  },
  {
   "cell_type": "markdown",
   "metadata": {},
   "source": [
    "<h3>Class Methods:</h3>"
   ]
  },
  {
   "cell_type": "code",
   "execution_count": 9,
   "metadata": {},
   "outputs": [
    {
     "name": "stdout",
     "output_type": "stream",
     "text": [
      "1\n",
      "2\n"
     ]
    }
   ],
   "source": [
    "class MyClass:\n",
    "    class_variable = 0\n",
    "\n",
    "    @classmethod\n",
    "    def increment_class_variable(cls):\n",
    "        cls.class_variable += 1\n",
    "\n",
    "# Calling the class method\n",
    "MyClass.increment_class_variable()\n",
    "print(MyClass.class_variable)  # Output: 1\n",
    "\n",
    "# Creating an instance and calling the class method\n",
    "instance = MyClass()\n",
    "instance.increment_class_variable()\n",
    "print(MyClass.class_variable)  # Output: 2"
   ]
  },
  {
   "cell_type": "markdown",
   "metadata": {},
   "source": [
    "<h3>Static Methods:</h3>"
   ]
  },
  {
   "cell_type": "code",
   "execution_count": 10,
   "metadata": {},
   "outputs": [
    {
     "name": "stdout",
     "output_type": "stream",
     "text": [
      "Hello, Alice!\n",
      "Hello, Bob!\n"
     ]
    }
   ],
   "source": [
    "class MyClass:\n",
    "    @staticmethod\n",
    "    def greet(name):\n",
    "        return f\"Hello, {name}!\"\n",
    "\n",
    "# Calling the static method\n",
    "print(MyClass.greet(\"Alice\"))  # Output: Hello, Alice!\n",
    "\n",
    "# Creating an instance and calling the static method\n",
    "instance = MyClass()\n",
    "print(instance.greet(\"Bob\"))  # Output: Hello, Bob!"
   ]
  },
  {
   "cell_type": "markdown",
   "metadata": {},
   "source": [
    "<h3>What Did I Learn?</h3>\n",
    "\n",
    "<ul>\n",
    "  <li>A class is a blueprint for creating objects. It defines a set of attributes and methods that the objects created from the class will have.</li>\n",
    "  <li>A method is a function defined within a class. It describes the behaviors of the objects created from the class.</li>\n",
    "  <li>An object is an instance of a class. It is created using the class name followed by parentheses, with any required parameters passed inside the parentheses.</li>\n",
    "  <li>Class methods can modify class-level data, while static methods are utility functions that do not modify class or instance data.</li>\n",
    "</ul>"
   ]
  },
  {
   "cell_type": "markdown",
   "metadata": {},
   "source": [
    "<h1>Reviewing the Basics</h1>\n",
    "\n",
    "<h3>My Prompt:</h3>\n",
    "\n",
    "<p>\"Could you use the examples you have provided above to explain basic syntax of Python to a complete beginner in programming? Please explain step-by-step highlighting any key aspects. Please include well known references to Python styling guides.\"</p>"
   ]
  },
  {
   "cell_type": "markdown",
   "metadata": {},
   "source": [
    "<h3>Variables:</h3>"
   ]
  },
  {
   "cell_type": "code",
   "execution_count": 11,
   "metadata": {},
   "outputs": [],
   "source": [
    "name = \"Alice\"\n",
    "age = 25"
   ]
  },
  {
   "cell_type": "markdown",
   "metadata": {},
   "source": [
    "<h3>Functions:</h3>"
   ]
  },
  {
   "cell_type": "code",
   "execution_count": 12,
   "metadata": {},
   "outputs": [],
   "source": [
    "def greet(name):\n",
    "    return f\"Hello, {name}!\""
   ]
  },
  {
   "cell_type": "markdown",
   "metadata": {},
   "source": [
    "<h3>Classes and Objects:</h3>"
   ]
  },
  {
   "cell_type": "code",
   "execution_count": 13,
   "metadata": {},
   "outputs": [
    {
     "name": "stdout",
     "output_type": "stream",
     "text": [
      "Hello, world!\n"
     ]
    }
   ],
   "source": [
    "class Greeter:\n",
    "    def __init__(self, name):\n",
    "        self.name = name\n",
    "\n",
    "    def greet(self):\n",
    "        print(f\"Hello, {self.name}!\")\n",
    "\n",
    "# Creating an object of the Greeter class\n",
    "greeter = Greeter(\"world\")\n",
    "greeter.greet()"
   ]
  },
  {
   "cell_type": "markdown",
   "metadata": {},
   "source": [
    "<h3>Class Methods:</h3>"
   ]
  },
  {
   "cell_type": "code",
   "execution_count": 14,
   "metadata": {},
   "outputs": [],
   "source": [
    "class MyClass:\n",
    "    class_variable = 0\n",
    "\n",
    "    @classmethod\n",
    "    def increment_class_variable(cls):\n",
    "        cls.class_variable += 1"
   ]
  },
  {
   "cell_type": "markdown",
   "metadata": {},
   "source": [
    "<h3>Static Methods:</h3>"
   ]
  },
  {
   "cell_type": "code",
   "execution_count": 15,
   "metadata": {},
   "outputs": [],
   "source": [
    "class MyClass:\n",
    "    @staticmethod\n",
    "    def greet(name):\n",
    "        return f\"Hello, {name}!\""
   ]
  },
  {
   "cell_type": "markdown",
   "metadata": {},
   "source": [
    "<h3>Control Flow: If, Elif, and Else Statements:</h3>"
   ]
  },
  {
   "cell_type": "code",
   "execution_count": 16,
   "metadata": {},
   "outputs": [],
   "source": [
    "def greet(language):\n",
    "    if language == \"English\":\n",
    "        print(\"Hello, world!\")\n",
    "    elif language == \"Spanish\":\n",
    "        print(\"¡Hola, mundo!\")\n",
    "    elif language == \"French\":\n",
    "        print(\"Bonjour, le monde!\")\n",
    "    else:\n",
    "        print(\"Hello, world! (default)\")"
   ]
  },
  {
   "cell_type": "markdown",
   "metadata": {},
   "source": [
    "<h3>For Loop:</h3>"
   ]
  },
  {
   "cell_type": "code",
   "execution_count": 17,
   "metadata": {},
   "outputs": [
    {
     "name": "stdout",
     "output_type": "stream",
     "text": [
      "Hello, world!\n",
      "Hello, world!\n",
      "Hello, world!\n",
      "Hello, world!\n",
      "Hello, world!\n"
     ]
    }
   ],
   "source": [
    "for i in range(5):\n",
    "    print(\"Hello, world!\")"
   ]
  },
  {
   "cell_type": "markdown",
   "metadata": {},
   "source": [
    "<h3>While Loop:</h3>"
   ]
  },
  {
   "cell_type": "code",
   "execution_count": 18,
   "metadata": {},
   "outputs": [
    {
     "name": "stdout",
     "output_type": "stream",
     "text": [
      "Hello, world!\n",
      "Hello, world!\n",
      "Hello, world!\n",
      "Hello, world!\n",
      "Hello, world!\n"
     ]
    }
   ],
   "source": [
    "count = 0\n",
    "while count < 5:\n",
    "    print(\"Hello, world!\")\n",
    "    count += 1"
   ]
  },
  {
   "cell_type": "markdown",
   "metadata": {},
   "source": [
    "<h3>Lists:</h3>"
   ]
  },
  {
   "cell_type": "code",
   "execution_count": 19,
   "metadata": {},
   "outputs": [
    {
     "name": "stdout",
     "output_type": "stream",
     "text": [
      "Hello, world!\n",
      "Hi there!\n",
      "Greetings!\n",
      "Welcome!\n",
      "Howdy!\n"
     ]
    }
   ],
   "source": [
    "greetings = [\"Hello, world!\", \"Hi there!\", \"Greetings!\", \"Welcome!\", \"Howdy!\"]\n",
    "for greeting in greetings:\n",
    "    print(greeting)"
   ]
  },
  {
   "cell_type": "markdown",
   "metadata": {},
   "source": [
    "<h3>Dictionaries:</h3>"
   ]
  },
  {
   "cell_type": "code",
   "execution_count": 20,
   "metadata": {},
   "outputs": [
    {
     "name": "stdout",
     "output_type": "stream",
     "text": [
      "In English, we say: Hello, world!\n",
      "In Spanish, we say: ¡Hola, mundo!\n",
      "In French, we say: Bonjour, le monde!\n",
      "In German, we say: Hallo, Welt!\n",
      "In Japanese, we say: こんにちは、世界！\n"
     ]
    }
   ],
   "source": [
    "greetings = {\n",
    "    \"English\": \"Hello, world!\",\n",
    "    \"Spanish\": \"¡Hola, mundo!\",\n",
    "    \"French\": \"Bonjour, le monde!\",\n",
    "    \"German\": \"Hallo, Welt!\",\n",
    "    \"Japanese\": \"こんにちは、世界！\"\n",
    "}\n",
    "for language, greeting in greetings.items():\n",
    "    print(f\"In {language}, we say: {greeting}\")"
   ]
  },
  {
   "cell_type": "markdown",
   "metadata": {},
   "source": [
    "<h3>Suggested Prompts:</h3>\n",
    "\n",
    "<ul>\n",
    "  <li>Can you explain error handling in Python?</li>\n",
    "  <li>What are modules and how do I use them?</li>\n",
    "  <li>How can I read and write files in Python?</li>\n",
    "</ul>\n",
    "\n",
    "<h3>Let's Try...</h3>\n",
    "\n",
    "<p>Can you explain error handling in Python?</p>"
   ]
  },
  {
   "cell_type": "code",
   "execution_count": 21,
   "metadata": {},
   "outputs": [
    {
     "name": "stdout",
     "output_type": "stream",
     "text": [
      "You can't divide by zero!\n",
      "This will always be executed\n"
     ]
    }
   ],
   "source": [
    "try:\n",
    "    # Code that may raise an exception\n",
    "    result = 10 / 0\n",
    "except ZeroDivisionError:\n",
    "    # Code to handle the exception\n",
    "    print(\"You can't divide by zero!\")\n",
    "else:\n",
    "    # Code to execute if no exceptions were raised\n",
    "    print(f\"The result is {result}\")\n",
    "finally:\n",
    "    # Code to execute regardless of whether an exception was raised or not\n",
    "    print(\"This will always be executed\")"
   ]
  },
  {
   "cell_type": "markdown",
   "metadata": {},
   "source": [
    "<h3>What Did I Learn?</h3>\n",
    "\n",
    "<ul>\n",
    "  <li>Error handling in Python is done using try, except, else, and finally blocks.</li>\n",
    "  <li>It allows you to catch and handle errors that may occur during the execution of your code, preventing your program from crashing.</li>\n",
    "</ul>"
   ]
  },
  {
   "cell_type": "markdown",
   "metadata": {},
   "source": [
    "<h1>Simplicity, Security, and Inclusion</h1>\n",
    "\n",
    "<h3>My Prompt:</h3>\n",
    "\n",
    "<p>\"Could you suggest three different Python implementations of the Hello World program to emphasise, respectively, principles of simplicity, security, and inclusion? Please explain step-by-step highlighting any key aspects.\"</p>"
   ]
  },
  {
   "cell_type": "markdown",
   "metadata": {},
   "source": [
    "<h3>Simplicity:</h3>"
   ]
  },
  {
   "cell_type": "code",
   "execution_count": 22,
   "metadata": {},
   "outputs": [
    {
     "name": "stdout",
     "output_type": "stream",
     "text": [
      "Hello, world!\n"
     ]
    }
   ],
   "source": [
    "print(\"Hello, world!\")"
   ]
  },
  {
   "cell_type": "markdown",
   "metadata": {},
   "source": [
    "<h3>Security:</h3>"
   ]
  },
  {
   "cell_type": "code",
   "execution_count": 23,
   "metadata": {},
   "outputs": [
    {
     "name": "stdout",
     "output_type": "stream",
     "text": [
      "Hello, world!\n"
     ]
    }
   ],
   "source": [
    "def secure_greet(name):\n",
    "    if not isinstance(name, str):\n",
    "        raise ValueError(\"Name must be a string\")\n",
    "    if any(char.isdigit() for char in name):\n",
    "        raise ValueError(\"Name must not contain numbers\")\n",
    "    print(f\"Hello, {name}!\")\n",
    "\n",
    "# Example usage\n",
    "try:\n",
    "    secure_greet(\"world\")\n",
    "except ValueError as e:\n",
    "    print(e)"
   ]
  },
  {
   "cell_type": "markdown",
   "metadata": {},
   "source": [
    "<h3>Inclusion:</h3>"
   ]
  },
  {
   "cell_type": "code",
   "execution_count": 24,
   "metadata": {},
   "outputs": [
    {
     "name": "stdout",
     "output_type": "stream",
     "text": [
      "¡Hola, mundo!\n",
      "こんにちは、世界！\n",
      "Hello, world! (default)\n"
     ]
    }
   ],
   "source": [
    "def inclusive_greet(language):\n",
    "    greetings = {\n",
    "        \"English\": \"Hello, world!\",\n",
    "        \"Spanish\": \"¡Hola, mundo!\",\n",
    "        \"French\": \"Bonjour, le monde!\",\n",
    "        \"German\": \"Hallo, Welt!\",\n",
    "        \"Japanese\": \"こんにちは、世界！\"\n",
    "    }\n",
    "    greeting = greetings.get(language, \"Hello, world! (default)\")\n",
    "    print(greeting)\n",
    "\n",
    "# Example usage\n",
    "inclusive_greet(\"Spanish\")\n",
    "inclusive_greet(\"Japanese\")\n",
    "inclusive_greet(\"Korean\")  # Default greeting"
   ]
  },
  {
   "cell_type": "markdown",
   "metadata": {},
   "source": [
    "<h3>Suggested Prompts:</h3>\n",
    "\n",
    "<ul>\n",
    "  <li>Can you explain more about input validation?</li>\n",
    "  <li>What are some other principles in programming?</li>\n",
    "  <li>How can I implement localization for greetings?</li>\n",
    "</ul>\n",
    "\n",
    "<h3>Let's Try...</h3>\n",
    "\n",
    "<p>Can you explain error handling in Python?</p>"
   ]
  },
  {
   "cell_type": "code",
   "execution_count": 25,
   "metadata": {},
   "outputs": [
    {
     "name": "stdout",
     "output_type": "stream",
     "text": [
      "Hello, World!\n",
      "¡Hola, Mundo!\n",
      "Bonjour, le Monde!\n",
      "Hallo, Welt!\n",
      "こんにちは、世界！\n",
      "你好，世界！\n",
      "नमस्ते, दुनिया!\n",
      "مرحبا بالعالم!\n",
      "Hello, World!\n"
     ]
    }
   ],
   "source": [
    "# Step 1: Create a dictionary of greetings\n",
    "greetings = {\n",
    "    \"en\": \"Hello, World!\",\n",
    "    \"es\": \"¡Hola, Mundo!\",\n",
    "    \"fr\": \"Bonjour, le Monde!\",\n",
    "    \"de\": \"Hallo, Welt!\",\n",
    "    \"jp\": \"こんにちは、世界！\",\n",
    "    \"zh\": \"你好，世界！\",\n",
    "    \"hi\": \"नमस्ते, दुनिया!\",\n",
    "    \"ar\": \"مرحبا بالعالم!\"\n",
    "}\n",
    "\n",
    "# Step 2: Define a function to get the greeting\n",
    "def get_greeting(language_code):\n",
    "    # Step 3: Handle missing languages\n",
    "    return greetings.get(language_code, \"Hello, World!\")\n",
    "\n",
    "# Example usage\n",
    "print(get_greeting(\"en\"))  # Output: Hello, World!\n",
    "print(get_greeting(\"es\"))  # Output: ¡Hola, Mundo!\n",
    "print(get_greeting(\"fr\"))  # Output: Bonjour, le Monde!\n",
    "print(get_greeting(\"de\"))  # Output: Hallo, Welt!\n",
    "print(get_greeting(\"jp\"))  # Output: こんにちは、世界！\n",
    "print(get_greeting(\"zh\"))  # Output: 你好，世界！\n",
    "print(get_greeting(\"hi\"))  # Output: नमस्ते, दुनिया!\n",
    "print(get_greeting(\"ar\"))  # Output: مرحبا بالعالم!\n",
    "print(get_greeting(\"it\"))  # Output: Hello, World! (default)"
   ]
  },
  {
   "cell_type": "markdown",
   "metadata": {},
   "source": [
    "<h3>What Did I Learn?</h3>\n",
    "\n",
    "<ul>\n",
    "  <li>Simplicity focuses on keeping the code as simple and straightforward as possible.</li>\n",
    "  <li>Security can use input validation to ensure that the input is safe and appropriate.</li>\n",
    "  <li>Inclusion, for example, could be making your code support multiple languages, which allows for better user experiences.</li>\n",
    "</ul>"
   ]
  },
  {
   "cell_type": "markdown",
   "metadata": {},
   "source": [
    "<h2>Benefits of Microsoft Copilot:</h2>\n",
    "\n",
    "<ul>\n",
    "  <li>Provides assistance and explanations for coding concepts</li>\n",
    "  <li>Checks for errors in code</li>\n",
    "  <li>Increases productivity</li>\n",
    "  <li>Supports learning</li>\n",
    "</ul>\n",
    "\n",
    "<h2>Limitations of Microsoft Copilot:</h2>\n",
    "\n",
    "<ul>\n",
    "  <li>Creates a dependency on a support tool</li>\n",
    "  <li>Not always fully accurate</li>\n",
    "  <li>Can be a learning curve for new users</li>\n",
    "</ul>\n",
    "\n",
    "<h2>My Experience:</h2>\n",
    "\n",
    "<ul>\n",
    "  <li>X</li>\n",
    "  <li>X</li>\n",
    "  <li>X</li>\n",
    "</ul>"
   ]
  }
 ],
 "metadata": {
  "kernelspec": {
   "display_name": "Python 3",
   "language": "python",
   "name": "python3"
  },
  "language_info": {
   "codemirror_mode": {
    "name": "ipython",
    "version": 3
   },
   "file_extension": ".py",
   "mimetype": "text/x-python",
   "name": "python",
   "nbconvert_exporter": "python",
   "pygments_lexer": "ipython3",
   "version": "3.12.1"
  }
 },
 "nbformat": 4,
 "nbformat_minor": 2
}
