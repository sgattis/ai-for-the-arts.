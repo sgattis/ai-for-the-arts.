{
 "cells": [
  {
   "cell_type": "markdown",
   "metadata": {},
   "source": [
    "<h1>Hello, World!</h1>\n",
    "\n",
    "<p>The following code was created as my first attempt at programming in this course. It is meant to help me understand how to write and run code in GitHub Codespaces.</p>"
   ]
  },
  {
   "cell_type": "code",
   "execution_count": 1,
   "metadata": {},
   "outputs": [
    {
     "name": "stdout",
     "output_type": "stream",
     "text": [
      "Hello, World!\n"
     ]
    }
   ],
   "source": [
    "print(\"Hello, World!\")"
   ]
  },
  {
   "cell_type": "markdown",
   "metadata": {},
   "source": [
    "<h1>AI for the Arts</h1>\n",
    "\n",
    "<p>This notebook will be used to learn basic programming concepts</p>\n",
    "\n",
    "<h3>Goals</h3>\n",
    "\n",
    "<ul>\n",
    "  <li>Make an interactive element</li>\n",
    "  <li>Organise files</li>\n",
    "  <li>Learn python basics</li>\n",
    "</ul>"
   ]
  },
  {
   "cell_type": "markdown",
   "metadata": {},
   "source": [
    "<h1>Printing</h1>\n",
    "\n",
    "<h3>My Prompt:</h3>\n",
    "\n",
    "<p>“Could you suggest a python code for ‘Hello, world!’to demonstrate the concept of printing to a complete beginner in programming? Please explain the code step-by-step highlighting any key aspects.\"</p>\n",
    "\n",
    "<h3>Key Learning Outcomes:</h3>\n",
    "\n",
    "<ul>\n",
    "  <li>See how Microsoft Copilot can speed up the Python learning process</li>\n",
    "  <li>Gain insights into coding patterns</li>\n",
    "  <li>Recieve new suggestions and ideas with aid from an AI tool</li>\n",
    "</ul>\n",
    "\n"
   ]
  },
  {
   "cell_type": "code",
   "execution_count": 1,
   "metadata": {},
   "outputs": [
    {
     "name": "stdout",
     "output_type": "stream",
     "text": [
      "Hello, world!\n"
     ]
    }
   ],
   "source": [
    "print(\"Hello, world!\")"
   ]
  },
  {
   "cell_type": "markdown",
   "metadata": {},
   "source": [
    "<h1>Variables</h1>\n",
    "\n",
    "<h3>My Prompt:</h3>\n",
    "\n",
    "<p>\"Could you suggest a modification of the Python code for “Hello, world!” to demonstrate the concept of variables to a complete beginner in programming? Please explain the code step-by-step highlighting any key aspects.\"</p>"
   ]
  },
  {
   "cell_type": "code",
   "execution_count": 2,
   "metadata": {},
   "outputs": [
    {
     "name": "stdout",
     "output_type": "stream",
     "text": [
      "Hello, world!\n"
     ]
    }
   ],
   "source": [
    "message = \"Hello, world!\"\n",
    "print(message)"
   ]
  },
  {
   "cell_type": "markdown",
   "metadata": {},
   "source": [
    "<h3>Suggested Prompts:</h3>\n",
    "\n",
    "<ul>\n",
    "  <li>Can you show me more examples of variables?</li>\n",
    "  <li>What are data types in Python?</li>\n",
    "  <li>How do I create multiple variables at once?</li>\n",
    "</ul>"
   ]
  },
  {
   "cell_type": "markdown",
   "metadata": {},
   "source": [
    "<h3>Let's Try...</h3>\n",
    "\n",
    "<p>How do I create multiple variables at once?</p>"
   ]
  },
  {
   "cell_type": "code",
   "execution_count": 3,
   "metadata": {},
   "outputs": [
    {
     "name": "stdout",
     "output_type": "stream",
     "text": [
      "Alice\n",
      "30\n",
      "Glasgow\n"
     ]
    }
   ],
   "source": [
    "name, age, city = \"Alice\", 30, \"Glasgow\"\n",
    "print(name)  # Output: Alice\n",
    "print(age)   # Output: 30\n",
    "print(city)  # Output: Glasgow"
   ]
  },
  {
   "cell_type": "markdown",
   "metadata": {},
   "source": [
    "<h3>What Did I Learn?</h3>\n",
    "\n",
    "<ul>\n",
    "  <li>A variable is a name that refers to a value. It stores data and can be manipulated and resused throughout a program.</li>\n",
    "  <li>You can create multiple variables at once in Python by separating each variable and its value with a comma.</li>\n",
    "  <li>Values are assigned to variables in the order they appear.</li>\n",
    "  <li>The = sign is used to assign a value to a variable.</li>\n",
    "  <li>A string refers to the sequence of characters enclosed in quotation marks.</li>\n",
    "</ul>"
   ]
  },
  {
   "cell_type": "markdown",
   "metadata": {},
   "source": [
    "<h1>Functions</h1>\n",
    "\n",
    "<h3>My Prompt:</h3>\n",
    "\n",
    "<p>\"Could you suggest a modification of the Python code for “Hello, world!” to demonstrate the concept of functions to a complete beginner in programming? Please explain the code step-by-step highlighting any key aspects.\"</p>"
   ]
  },
  {
   "cell_type": "code",
   "execution_count": 4,
   "metadata": {},
   "outputs": [
    {
     "name": "stdout",
     "output_type": "stream",
     "text": [
      "Hello, world!\n"
     ]
    }
   ],
   "source": [
    "def greet():\n",
    "    print(\"Hello, world!\")\n",
    "\n",
    "greet()"
   ]
  },
  {
   "cell_type": "markdown",
   "metadata": {},
   "source": [
    "<h3>Suggested Prompts:</h3>\n",
    "\n",
    "<ul>\n",
    "  <li>Can you show me how to pass parameters to functions?</li>\n",
    "  <li>What are return values in functions?</li>\n",
    "  <li>How do I create a function with multiple statements?</li>\n",
    "</ul>\n"
   ]
  },
  {
   "cell_type": "markdown",
   "metadata": {},
   "source": [
    "<h3>Let's Try...</h3>\n",
    "\n",
    "<p>What are return values in functions?</p>"
   ]
  },
  {
   "cell_type": "code",
   "execution_count": 5,
   "metadata": {},
   "outputs": [
    {
     "name": "stdout",
     "output_type": "stream",
     "text": [
      "8\n"
     ]
    }
   ],
   "source": [
    "def add(a, b):\n",
    "    return a + b\n",
    "\n",
    "result = add(3, 5)\n",
    "print(result)"
   ]
  },
  {
   "cell_type": "markdown",
   "metadata": {},
   "source": [
    "<h3>What Did I Learn?</h3>\n",
    "\n",
    "<ul>\n",
    "  <li>Functions are reusable pieces of code that perform a specific task. They help to organise and modularise code.</li>\n",
    "  <li>You can use the def keyword to define a function, followed by the function name and parentheses.</li>\n",
    "  <li>To execute a function, call it by its name followed by parenthesis.</li>\n",
    "  <li>Return values in functions are the values that a function sends back to the part of the program that called it.</li>\n",
    "  <li>Return values are essential for creating functions that perform calculations or operations and provide results that can be used elsewhere in your program.</li>\n",
    "</ul>"
   ]
  },
  {
   "cell_type": "markdown",
   "metadata": {},
   "source": [
    "<h1>Loops</h1>\n",
    "\n",
    "<h3>My Prompt:</h3>\n",
    "\n",
    "<p>\"Could you suggest a modification of the Python code for “Hello, world!” to demonstrate the concept of loops to a\n",
    "complete beginner in programming? Please explain the code step-by-step highlighting any key aspects.\"</p>"
   ]
  },
  {
   "cell_type": "code",
   "execution_count": 6,
   "metadata": {},
   "outputs": [
    {
     "name": "stdout",
     "output_type": "stream",
     "text": [
      "Hello, world!\n",
      "Hello, world!\n",
      "Hello, world!\n",
      "Hello, world!\n",
      "Hello, world!\n"
     ]
    }
   ],
   "source": [
    "for i in range(5):\n",
    "    print(\"Hello, world!\")"
   ]
  },
  {
   "cell_type": "markdown",
   "metadata": {},
   "source": [
    "<h3>Suggested Prompts:</h3>\n",
    "\n",
    "<ul>\n",
    "  <li>Can you explain while loops?</li>\n",
    "  <li>What are nested loops in Python?</li>\n",
    "  <li>How to use break and continue statements?</li>\n",
    "</ul>"
   ]
  },
  {
   "cell_type": "markdown",
   "metadata": {},
   "source": [
    "<h3>Let's Try...</h3>\n",
    "\n",
    "<p>Can you explain while loops?</p>"
   ]
  },
  {
   "cell_type": "code",
   "execution_count": 1,
   "metadata": {},
   "outputs": [
    {
     "name": "stdout",
     "output_type": "stream",
     "text": [
      "Hello, world!\n",
      "Hello, world!\n",
      "Hello, world!\n",
      "Hello, world!\n",
      "Hello, world!\n"
     ]
    }
   ],
   "source": [
    "count = 0\n",
    "while count < 5:\n",
    "    print(\"Hello, world!\")\n",
    "    count += 1"
   ]
  },
  {
   "cell_type": "markdown",
   "metadata": {},
   "source": [
    "<h3>What Did I Learn?</h3>\n",
    "\n",
    "<ul>\n",
    "  <li>Loops are used to repeat a block of code multiple times.</li>\n",
    "  <li>A while loop in Python repeatedly executes a block of code as long as a specified condition is True.</li>\n",
    "</ul>"
   ]
  },
  {
   "cell_type": "markdown",
   "metadata": {},
   "source": [
    "<h1>Lists</h1>\n",
    "\n",
    "<h3>My Prompt:</h3>\n",
    "\n",
    "<p>\"Could you suggest a modification of the Python code for “Hello, world!” to demonstrate the concept of lists to a complete beginner in programming? Please explain the code step-by-step highlighting any key aspects.\"</p>"
   ]
  },
  {
   "cell_type": "code",
   "execution_count": 2,
   "metadata": {},
   "outputs": [
    {
     "name": "stdout",
     "output_type": "stream",
     "text": [
      "Hello, world!\n",
      "Hi there!\n",
      "Greetings!\n",
      "Welcome!\n",
      "Howdy!\n"
     ]
    }
   ],
   "source": [
    "messages = [\"Hello, world!\", \"Hi there!\", \"Greetings!\", \"Welcome!\", \"Howdy!\"]\n",
    "for message in messages:\n",
    "    print(message)"
   ]
  },
  {
   "cell_type": "markdown",
   "metadata": {},
   "source": [
    "<h3>Suggested Prompts:</h3>\n",
    "\n",
    "<ul>\n",
    "  <li>Can you explain how to modify lists?</li>\n",
    "  <li>What are list comprehensions in Python?</li>\n",
    "  <li>How do I sort a list?</li>\n",
    "</ul>\n",
    "\n",
    "<h3>Let's Try...</h3>\n",
    "\n",
    "<p>How do I sort a list?</p>"
   ]
  },
  {
   "cell_type": "code",
   "execution_count": 3,
   "metadata": {},
   "outputs": [
    {
     "name": "stdout",
     "output_type": "stream",
     "text": [
      "[1, 2, 5, 5, 6, 9]\n"
     ]
    }
   ],
   "source": [
    "numbers = [5, 2, 9, 1, 5, 6]\n",
    "numbers.sort()\n",
    "print(numbers)"
   ]
  },
  {
   "cell_type": "markdown",
   "metadata": {},
   "source": [
    "<h3>What Did I Learn?</h3>\n",
    "\n",
    "<ul>\n",
    "  <li>Lists are used to store multiple items in a single variable.</li>\n",
    "  <li>In-Place Sorting: The sort() method sorts the list in place, modifying the original list.</li>\n",
    "  <li>New Sorted List: The sorted() function returns a new sorted list, leaving the original list unchanged.</li>\n",
    "  <li>Ascending Order: By default, both sort() and sorted() sort the list in ascending order.</li>\n",
    "</ul>"
   ]
  },
  {
   "cell_type": "markdown",
   "metadata": {},
   "source": [
    "<h1>Dictionaries</h1>\n",
    "\n",
    "<h3>My Prompt:</h3>\n",
    "\n",
    "<p>\"Could you suggest a modification of the Python code for “Hello, world!” to demonstrate the concept of dictionaries to a complete beginner in programming? Please explain the code step-by-step highlighting any key aspects.\"</p>"
   ]
  },
  {
   "cell_type": "code",
   "execution_count": 4,
   "metadata": {},
   "outputs": [
    {
     "name": "stdout",
     "output_type": "stream",
     "text": [
      "In English, we say: Hello, world!\n",
      "In Spanish, we say: ¡Hola, mundo!\n",
      "In French, we say: Bonjour, le monde!\n",
      "In German, we say: Hallo, Welt!\n",
      "In Japanese, we say: こんにちは、世界！\n"
     ]
    }
   ],
   "source": [
    "greetings = {\n",
    "    \"English\": \"Hello, world!\",\n",
    "    \"Spanish\": \"¡Hola, mundo!\",\n",
    "    \"French\": \"Bonjour, le monde!\",\n",
    "    \"German\": \"Hallo, Welt!\",\n",
    "    \"Japanese\": \"こんにちは、世界！\"\n",
    "}\n",
    "\n",
    "for language, greeting in greetings.items():\n",
    "    print(f\"In {language}, we say: {greeting}\")"
   ]
  },
  {
   "cell_type": "markdown",
   "metadata": {},
   "source": [
    "<h3>Suggested Prompts:</h3>\n",
    "\n",
    "<ul>\n",
    "  <li>How do I modify a dictionary?</li>\n",
    "  <li>What are nested dictionaries in Python?</li>\n",
    "  <li>Can you explain how to merge two dictionaries?</li>\n",
    "</ul>\n",
    "\n",
    "<h3>Let's Try...</h3>\n",
    "\n",
    "<p>What are nested dictionaries in Python?</p>"
   ]
  },
  {
   "cell_type": "code",
   "execution_count": 8,
   "metadata": {},
   "outputs": [],
   "source": [
    "students = {\n",
    "    \"Alice\": {\n",
    "        \"age\": 25,\n",
    "        \"major\": \"Physics\",\n",
    "        \"grades\": {\"math\": \"A\", \"science\": \"B+\"}\n",
    "    },\n",
    "    \"Bob\": {\n",
    "        \"age\": 22,\n",
    "        \"major\": \"Mathematics\",\n",
    "        \"grades\": {\"math\": \"A+\", \"science\": \"A\"}\n",
    "    }\n",
    "}"
   ]
  },
  {
   "cell_type": "markdown",
   "metadata": {},
   "source": [
    "<h3>Error!</h3>\n",
    "\n",
    "<p>There was no output from the above code offered by Copilot. I told the AI about this issue, and it seems as though I forgot to write out a print statement to see the output. The revised code is below.</p>"
   ]
  },
  {
   "cell_type": "code",
   "execution_count": 9,
   "metadata": {},
   "outputs": [
    {
     "name": "stdout",
     "output_type": "stream",
     "text": [
      "Alice's major: Physics\n",
      "Bob's math grade: A+\n",
      "Alice's details: {'age': 25, 'major': 'Physics', 'grades': {'math': 'A', 'science': 'B+'}}\n",
      "Bob's details: {'age': 22, 'major': 'Mathematics', 'grades': {'math': 'A+', 'science': 'A'}}\n"
     ]
    }
   ],
   "source": [
    "students = {\n",
    "    \"Alice\": {\n",
    "        \"age\": 25,\n",
    "        \"major\": \"Physics\",\n",
    "        \"grades\": {\"math\": \"A\", \"science\": \"B+\"}\n",
    "    },\n",
    "    \"Bob\": {\n",
    "        \"age\": 22,\n",
    "        \"major\": \"Mathematics\",\n",
    "        \"grades\": {\"math\": \"A+\", \"science\": \"A\"}\n",
    "    }\n",
    "}\n",
    "\n",
    "# Accessing and printing Alice's major\n",
    "print(\"Alice's major:\", students[\"Alice\"][\"major\"])\n",
    "\n",
    "# Accessing and printing Bob's math grade\n",
    "print(\"Bob's math grade:\", students[\"Bob\"][\"grades\"][\"math\"])\n",
    "\n",
    "# Accessing and printing all details of Alice\n",
    "print(\"Alice's details:\", students[\"Alice\"])\n",
    "\n",
    "# Accessing and printing all details of Bob\n",
    "print(\"Bob's details:\", students[\"Bob\"])"
   ]
  },
  {
   "cell_type": "markdown",
   "metadata": {},
   "source": [
    "<h3>What Did I Learn?</h3>\n",
    "\n",
    "<ul>\n",
    "  <li>Dictionaries are used to store data values in key-value pairs.</li>\n",
    "  <li>Each key in a dictionary is unique and maps to a value. Keys are used to access their corresponding values.</li>\n",
    "  <li>Nested dictionaries are dictionaries within dictionaries, allowing for more complex data structures.</li>\n",
    "  <li>Make sure to add a print statement, if you want to see output!</li>\n",
    "</ul>"
   ]
  },
  {
   "cell_type": "markdown",
   "metadata": {},
   "source": [
    "<h1>Arrays</h1>\n",
    "\n",
    "<h3>My Prompt:</h3>\n",
    "\n",
    "<p>\"Could you suggest a modification of the Python code for “Hello, world!” to demonstrate the concept of arrays to a complete beginner in programming? Please explain the code step-by-step highlighting any key aspects.\"</p>"
   ]
  },
  {
   "cell_type": "code",
   "execution_count": 10,
   "metadata": {},
   "outputs": [
    {
     "name": "stdout",
     "output_type": "stream",
     "text": [
      "Hello, world!\n",
      "Hi there!\n",
      "Greetings!\n",
      "Welcome!\n",
      "Howdy!\n"
     ]
    }
   ],
   "source": [
    "greetings = [\"Hello, world!\", \"Hi there!\", \"Greetings!\", \"Welcome!\", \"Howdy!\"]\n",
    "\n",
    "for greeting in greetings:\n",
    "    print(greeting)"
   ]
  },
  {
   "cell_type": "markdown",
   "metadata": {},
   "source": [
    "<h3>Suggested Prompts:</h3>\n",
    "\n",
    "<ul>\n",
    "  <li>How do I modify elements in a list?</li>\n",
    "  <li>Can you explain how to sort a list?</li>\n",
    "  <li>What are the differences between lists and tuples?</li>\n",
    "</ul>\n",
    "\n",
    "<h3>Let's Try...</h3>\n",
    "\n",
    "<p>My own prompt! I already learned about lists, so I want to get clarification on the differences between lists and arrays. I asked Copilot, \"What is the difference betweeen a list and array?\"</p>\n",
    "\n",
    "<h3>What Did I Learn?</h3>\n",
    "\n",
    "<ul>\n",
    "  <li>Use Lists: When you need a flexible, general-purpose collection that can store different data types.</li>\n",
    "  <li>Use Arrays: When you need efficient storage and operations for numerical data, especially with large datasets.</li>\n",
    "</ul>"
   ]
  },
  {
   "cell_type": "markdown",
   "metadata": {},
   "source": [
    "<h1>Importing Libraries</h1>\n",
    "\n",
    "<h3>My Prompt:</h3>\n",
    "\n",
    "<p>\"Could you suggest a modification of the Python code for “Hello, world!” to demonstrate the concept of importing libraries to a complete beginner in programming? Please explain the code step-by-step highlighting any key aspects.\"</p>"
   ]
  },
  {
   "cell_type": "code",
   "execution_count": 11,
   "metadata": {},
   "outputs": [
    {
     "name": "stdout",
     "output_type": "stream",
     "text": [
      "Hello, world!\n",
      "The current date and time is: 2025-01-28 13:43:56.923014\n"
     ]
    }
   ],
   "source": [
    "import datetime\n",
    "\n",
    "def greet():\n",
    "    current_time = datetime.datetime.now()\n",
    "    print(\"Hello, world!\")\n",
    "    print(f\"The current date and time is: {current_time}\")\n",
    "\n",
    "greet()"
   ]
  },
  {
   "cell_type": "markdown",
   "metadata": {},
   "source": [
    "<h3>Suggested Prompts:</h3>\n",
    "\n",
    "<ul>\n",
    "  <li>How do I create my own module?</li>\n",
    "  <li>Can you show me how to use multiple imports?</li>\n",
    "  <li>What are some common Python libraries for beginners?</li>\n",
    "</ul>\n",
    "\n",
    "<h3>Let's Try...</h3>\n",
    "\n",
    "<p>Can you show me how to use multiple imports?</p>"
   ]
  },
  {
   "cell_type": "code",
   "execution_count": 12,
   "metadata": {},
   "outputs": [
    {
     "name": "stdout",
     "output_type": "stream",
     "text": [
      "Hello, world!\n",
      "The current date and time is: 2025-01-28 13:46:05.353396\n",
      "The area of a circle with radius 5 is: 78.53981633974483\n"
     ]
    }
   ],
   "source": [
    "import datetime\n",
    "import math\n",
    "\n",
    "def display_greeting():\n",
    "    current_time = datetime.datetime.now()\n",
    "    print(\"Hello, world!\")\n",
    "    print(f\"The current date and time is: {current_time}\")\n",
    "\n",
    "def calculate_circle_area(radius):\n",
    "    area = math.pi * (radius ** 2)\n",
    "    return area\n",
    "\n",
    "# Using the display_greeting function\n",
    "display_greeting()\n",
    "\n",
    "# Using the calculate_circle_area function\n",
    "radius = 5\n",
    "area = calculate_circle_area(radius)\n",
    "print(f\"The area of a circle with radius {radius} is: {area}\")"
   ]
  },
  {
   "cell_type": "markdown",
   "metadata": {},
   "source": [
    "<h3>What Did I Learn?</h3>\n",
    "\n",
    "<ul>\n",
    "  <li>Importing libraries in Python allows you to use additional functionality that isn't included in the standard language.</li>\n",
    "  <li>You can import multiple modules by using separate import statements for each module.</li>\n",
    "</ul>"
   ]
  },
  {
   "cell_type": "markdown",
   "metadata": {},
   "source": [
    "<h1>If, Else, and Elif</h1>\n",
    "\n",
    "<h3>My Prompt:</h3>\n",
    "\n",
    "<p>\"Could you suggest a modification of the Python code for “Hello, world!” to demonstrate the concepts of if, elif, and else statements to a complete beginner in programming? Please explain the code step-by-step highlighting any key aspects.\"</p>"
   ]
  },
  {
   "cell_type": "code",
   "execution_count": 13,
   "metadata": {},
   "outputs": [
    {
     "name": "stdout",
     "output_type": "stream",
     "text": [
      "Hello, world!\n",
      "¡Hola, mundo!\n",
      "Bonjour, le monde!\n",
      "Hello, world! (default)\n"
     ]
    }
   ],
   "source": [
    "def greet(language):\n",
    "    if language == \"English\":\n",
    "        print(\"Hello, world!\")\n",
    "    elif language == \"Spanish\":\n",
    "        print(\"¡Hola, mundo!\")\n",
    "    elif language == \"French\":\n",
    "        print(\"Bonjour, le monde!\")\n",
    "    else:\n",
    "        print(\"Hello, world! (default)\")\n",
    "\n",
    "# Test the function with different languages\n",
    "greet(\"English\")\n",
    "greet(\"Spanish\")\n",
    "greet(\"French\")\n",
    "greet(\"German\")"
   ]
  },
  {
   "cell_type": "markdown",
   "metadata": {},
   "source": [
    "<h3>Suggested Prompts:</h3>\n",
    "\n",
    "<ul>\n",
    "  <li>Can you explain nested if statements?</li>\n",
    "  <li>What are common mistakes with if statements?</li>\n",
    "  <li>How do I use logical operators in conditions?</li>\n",
    "</ul>\n",
    "\n",
    "<h3>Let's Try...</h3>\n",
    "\n",
    "<p>What are common mistakes with if statements?</p>"
   ]
  },
  {
   "cell_type": "markdown",
   "metadata": {},
   "source": [
    "<h3>Benefits of Microsoft Copilot:</h3>\n",
    "\n",
    "<ul>\n",
    "  <li>List here</li>\n",
    "  <li>List</li>\n",
    "</ul>\n",
    "\n",
    "<h3>Limitations of Microsoft Copilot:</h3>\n",
    "\n",
    "<ul>\n",
    "  <li>X</li>\n",
    "  <li>X</li>\n",
    "</ul>"
   ]
  }
 ],
 "metadata": {
  "kernelspec": {
   "display_name": "Python 3",
   "language": "python",
   "name": "python3"
  },
  "language_info": {
   "codemirror_mode": {
    "name": "ipython",
    "version": 3
   },
   "file_extension": ".py",
   "mimetype": "text/x-python",
   "name": "python",
   "nbconvert_exporter": "python",
   "pygments_lexer": "ipython3",
   "version": "3.12.1"
  }
 },
 "nbformat": 4,
 "nbformat_minor": 2
}
